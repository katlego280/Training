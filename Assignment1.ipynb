{
 "cells": [
  {
   "cell_type": "markdown",
   "metadata": {},
   "source": [
    "# Pizza Party"
   ]
  },
  {
   "cell_type": "code",
   "execution_count": 28,
   "metadata": {},
   "outputs": [],
   "source": [
    "import math"
   ]
  },
  {
   "cell_type": "code",
   "execution_count": 59,
   "metadata": {},
   "outputs": [
    {
     "name": "stdout",
     "output_type": "stream",
     "text": [
      "How many people will be attending the party? 20\n",
      "How many slices of pizza is one person likely to eat? 3\n"
     ]
    }
   ],
   "source": [
    "#Asking the user how many people are expected to attend\n",
    "No_people = input(\"How many people will be attending the party? \")\n",
    "\n",
    "#How many slices of pizza is one person likely to eat?\n",
    "slice_size = input(\"How many slices of pizza is one person likely to eat? \")\n",
    "\n",
    "#Number of slices to consider when ordering Pizza\n",
    "slices = int(No_people)*int(slice_size)\n",
    "\n",
    "#Pizzas to order - there are 8 slices in one pizza box. \n",
    "pizza = int(slices)/8\n",
    "pizza = math.ceil(pizza)\n",
    "\n",
    "#How many slices of pizza are left after the party if everyone eats the number of slices predicted?\n",
    "leftover = ((pizza*8)%(slices))\n"
   ]
  },
  {
   "cell_type": "markdown",
   "metadata": {},
   "source": [
    "### Story Time "
   ]
  },
  {
   "cell_type": "code",
   "execution_count": 65,
   "metadata": {},
   "outputs": [
    {
     "name": "stdout",
     "output_type": "stream",
     "text": [
      "We are expecting 20 people to attend the party tonight. \n",
      "Each person is expected to eat 3 slices of pizza.\n",
      "\n",
      "If we are expecting 20 people and each person is likely to eat 3 slices, then it only makes sense that we order pizzas that'll accomondate 60 slices of pizza.\n",
      "\n",
      "Therefore, we must order 8 boxes of pizza.\n",
      "If everyone eats the number of slices predicted, we will have 4 slices of pizza leftover after the party.\n"
     ]
    }
   ],
   "source": [
    "print(\"We are expecting\", No_people ,\"people to attend the party tonight. \\n\" \n",
    "\"Each person is expected to eat\", slice_size,\"slices of pizza.\\n\") \n",
    "\n",
    "print(\"If we are expecting\", No_people,\"people and each person is likely to eat\", slice_size,\n",
    "\"slices, then it only makes sense that we order pizzas that'll accomondate\", slices,\"slices of pizza.\\n\")\n",
    "\n",
    "print(\"Therefore, we must order\", int(pizza), \"boxes of pizza.\") \n",
    "print(\"If everyone eats the number of slices predicted, we will have\", leftover,\"slices of pizza leftover after the party.\")"
   ]
  },
  {
   "cell_type": "code",
   "execution_count": null,
   "metadata": {},
   "outputs": [],
   "source": []
  }
 ],
 "metadata": {
  "kernelspec": {
   "display_name": "Python 3",
   "language": "python",
   "name": "python3"
  },
  "language_info": {
   "codemirror_mode": {
    "name": "ipython",
    "version": 3
   },
   "file_extension": ".py",
   "mimetype": "text/x-python",
   "name": "python",
   "nbconvert_exporter": "python",
   "pygments_lexer": "ipython3",
   "version": "3.8.3"
  }
 },
 "nbformat": 4,
 "nbformat_minor": 4
}
