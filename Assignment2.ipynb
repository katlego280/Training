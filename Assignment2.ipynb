{
 "cells": [
  {
   "cell_type": "markdown",
   "metadata": {},
   "source": [
    "# How Lucky Are You?"
   ]
  },
  {
   "cell_type": "code",
   "execution_count": 1,
   "metadata": {},
   "outputs": [],
   "source": [
    "import random"
   ]
  },
  {
   "cell_type": "code",
   "execution_count": 3,
   "metadata": {},
   "outputs": [
    {
     "name": "stdout",
     "output_type": "stream",
     "text": [
      "Yay! For your first roll, you have rolled 4 and your running total is 4\n",
      "Yay! For your second roll, you have rolled 6 and your running total is 10\n",
      "Yay! For your thrid roll, you have rolled 6 and your running total is 16 \n",
      "\n",
      "Grand Total from rolling the die 3 times is 16\n"
     ]
    }
   ],
   "source": [
    "#Simulation of rolling of a die by using random numbers and configure output to be between 1 and 6\n",
    "roll1 = random.randint(1,6)\n",
    "run_total=roll1\n",
    "#display to user\n",
    "print(\"Yay! For your first roll, you have rolled\",roll1, \"and your running total is\",run_total)\n",
    "\n",
    "roll2 = random.randint(1,6)\n",
    "run_total=roll1+roll2\n",
    "#display to user\n",
    "print(\"Yay! For your second roll, you have rolled\",roll2, \"and your running total is\",run_total)\n",
    "\n",
    "roll3 = random.randint(1,6)\n",
    "run_total=roll1+roll2+roll3\n",
    "#display to user\n",
    "print(\"Yay! For your third roll, you have rolled\",roll3, \"and your running total is\",run_total,\"\\n\")\n",
    "\n",
    "\n",
    "#Running total of the \n",
    "total = roll1+roll2+roll3\n",
    "print(\"Grand Total from rolling the die 3 times is\",total)\n",
    "\n"
   ]
  },
  {
   "cell_type": "code",
   "execution_count": null,
   "metadata": {},
   "outputs": [],
   "source": []
  }
 ],
 "metadata": {
  "kernelspec": {
   "display_name": "Python 3",
   "language": "python",
   "name": "python3"
  },
  "language_info": {
   "codemirror_mode": {
    "name": "ipython",
    "version": 3
   },
   "file_extension": ".py",
   "mimetype": "text/x-python",
   "name": "python",
   "nbconvert_exporter": "python",
   "pygments_lexer": "ipython3",
   "version": "3.8.3"
  }
 },
 "nbformat": 4,
 "nbformat_minor": 4
}
